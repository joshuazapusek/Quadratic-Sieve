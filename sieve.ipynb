{
 "cells": [
  {
   "cell_type": "markdown",
   "metadata": {},
   "source": [
    "# Quadratic Sieve Implementation"
   ]
  },
  {
   "cell_type": "markdown",
   "metadata": {},
   "source": [
    "## Preliminaries"
   ]
  },
  {
   "cell_type": "markdown",
   "metadata": {},
   "source": [
    "Imports"
   ]
  },
  {
   "cell_type": "code",
   "execution_count": 4,
   "metadata": {},
   "outputs": [],
   "source": [
    "import math\n",
    "import numpy as np"
   ]
  },
  {
   "cell_type": "markdown",
   "metadata": {},
   "source": [
    "### Part 1.1: Strong Pseudoprime Test"
   ]
  },
  {
   "cell_type": "markdown",
   "metadata": {},
   "source": [
    "A number of modules (below) require a means to quickly take some exponent mondulo some number...  \n",
    "Notes on Fast Modular Exponentiation:  \n",
    "* Use the property a * b mod (n) = a mod (n) * b mod (n)  \n",
    "* Recursively compute: base * (previous remainder) mod (n) over exponent => 1 : exponent"
   ]
  },
  {
   "cell_type": "code",
   "execution_count": 5,
   "metadata": {},
   "outputs": [],
   "source": [
    "# FAST MODULAR EXPONENTIATION\n",
    "# b = base for exponentiation\n",
    "# exp = exponent\n",
    "# n = modulo\n",
    "# returns result of fast modular exponentiation\n",
    "def fastExp(b, t, n):\n",
    "    res = 1\n",
    "    for i in range(0, t):\n",
    "        res = (res * b) % n\n",
    "    # Check result for strong pseudoprime context\n",
    "    if (res == (n - 1)):\n",
    "        return -1\n",
    "    return res"
   ]
  },
  {
   "cell_type": "code",
   "execution_count": 6,
   "metadata": {},
   "outputs": [
    {
     "name": "stdout",
     "output_type": "stream",
     "text": [
      "11\n"
     ]
    }
   ],
   "source": [
    "print(fastExp(11, 13, 19))"
   ]
  },
  {
   "cell_type": "markdown",
   "metadata": {},
   "source": [
    "A few notes to consider when implementing the strong pseudoprime test:  \n",
    "* There are no strong Carmichael Numbers - this was shown in class and homework  \n",
    "* A composite number n is a strong pseudoprime to at most one quarter of all bases below n  \n",
    "\n",
    "So, the test will be iterated over a number of bases to ensure (very high probability) primality  \n",
    "For the test, there is no composite that passses the test for 2, 325, 9375, 28178, 450775, 9780504, and 1795265022  \n",
    "* https://en.wikipedia.org/wiki/Strong_pseudoprime#cite_note-10  \n",
    "\n"
   ]
  },
  {
   "cell_type": "code",
   "execution_count": 7,
   "metadata": {},
   "outputs": [
    {
     "name": "stdout",
     "output_type": "stream",
     "text": [
      "-1\n"
     ]
    }
   ],
   "source": [
    "# STRONG PSEUDOPRIME TEST\n",
    "# n = questionable prime\n",
    "# bases = array of bases for test\n",
    "# returns 0 on passed, -1 on failed test\n",
    "def strongPseudo(n, bases):\n",
    "    for i in range(len(bases)):\n",
    "        t = n - 1\n",
    "        while (not(t % 2)):\n",
    "            res = fastExp(bases[i], t, n)\n",
    "            if (res == 1):\n",
    "                t = t // 2\n",
    "                # Continue base checking\n",
    "                continue\n",
    "            elif (res == -1):\n",
    "                # Assume probable pseudoprime of current base\n",
    "                break\n",
    "            else:\n",
    "                # Number is composite - fails test \n",
    "                return -1\n",
    "    return 0\n",
    "\n",
    "n = 3004879 \n",
    "bases = [2, 325, 9375, 28178]\n",
    "# print(fastExp(3, 3962, 31697))\n",
    "# NOTE: Write a loop to exemplify \n",
    "\n",
    "print(strongPseudo(n, bases))"
   ]
  },
  {
   "cell_type": "markdown",
   "metadata": {},
   "source": [
    "### Part 1.2: Trial Division"
   ]
  },
  {
   "cell_type": "markdown",
   "metadata": {},
   "source": [
    "Notes on Trial Division:  \n",
    "* Trial Division is used to factor out primes of some number, n, up to some max value.  \n",
    "* The unfactored portion (after max) will be called 's'  \n",
    "* The result of this module will be used in finding a root modulo p (Tonelli's Algorithm)"
   ]
  },
  {
   "cell_type": "code",
   "execution_count": 8,
   "metadata": {},
   "outputs": [
    {
     "name": "stdout",
     "output_type": "stream",
     "text": [
      "([4], 1981)\n"
     ]
    }
   ],
   "source": [
    "# TRIAL DIVISION\n",
    "# n = Number to divide\n",
    "# parr = array of primes \n",
    "# returns arr (trial prime factorization exponents), n (AKA 's' the unfactored portion)\n",
    "def trialDiv(n, parr):\n",
    "    arr = [0] * len(parr)\n",
    "    # Check each prime in prime array input\n",
    "    for i in range(len(parr)):\n",
    "        # Keep dividing prime out until no longer can\n",
    "        while (True):\n",
    "            if (n % parr[i] == 0):\n",
    "                arr[i] = arr[i] + 1\n",
    "                n = n // parr[i]\n",
    "            else:\n",
    "                break\n",
    "    return arr, n\n",
    "\n",
    "# NOTE: Write loop to exemplify \n",
    "print(trialDiv(31696, [2]))"
   ]
  },
  {
   "cell_type": "markdown",
   "metadata": {},
   "source": [
    "### Part 2.1: Inverse Modulo"
   ]
  },
  {
   "cell_type": "markdown",
   "metadata": {},
   "source": [
    "In Tonelli's algorithm (see 2.2) \n",
    "Notes on Inverse Modulo:  \n",
    "* Implement Extended Euclidean Algorithm for finding some inverse of a modulo n  \n"
   ]
  },
  {
   "cell_type": "code",
   "execution_count": 9,
   "metadata": {},
   "outputs": [
    {
     "name": "stdout",
     "output_type": "stream",
     "text": [
      "169\n"
     ]
    }
   ],
   "source": [
    "# EXTENDED EUCLIDEAN ALGORITHM\n",
    "def extEuclid(a,b):\n",
    "    n = b\n",
    "    x_prime = 1\n",
    "    x = 0\n",
    "    #prevx, x = 1, 0\n",
    "    while b:\n",
    "        q = a // b\n",
    "        # Update current iteration of inverse\n",
    "        temp = x\n",
    "        x = x_prime - (q * x)\n",
    "        x_prime = temp\n",
    "        # Update a & b\n",
    "        temp1 = a\n",
    "        a = b\n",
    "        b = temp1 % b\n",
    "    if (x_prime < 0):\n",
    "        return n + x_prime\n",
    "    return x_prime\n",
    "\n",
    "print(extEuclid(8, 193))"
   ]
  },
  {
   "cell_type": "code",
   "execution_count": 10,
   "metadata": {},
   "outputs": [
    {
     "name": "stdout",
     "output_type": "stream",
     "text": [
      "512\n",
      "72\n"
     ]
    }
   ],
   "source": [
    "e = pow(2, 5) * 3\n",
    "a = pow(8, 3)\n",
    "print(a)\n",
    "print(extEuclid(a, 193))"
   ]
  },
  {
   "cell_type": "code",
   "execution_count": 17,
   "metadata": {},
   "outputs": [
    {
     "name": "stdout",
     "output_type": "stream",
     "text": [
      "126\n"
     ]
    }
   ],
   "source": [
    "print(fastExp(8, 3, 193))"
   ]
  },
  {
   "cell_type": "markdown",
   "metadata": {},
   "source": [
    "### Part 2.2: Tonelli's Algorithm "
   ]
  },
  {
   "cell_type": "markdown",
   "metadata": {},
   "source": [
    "Calculating Jacobi symbols will be necessary for this module  \n",
    "Notes on Jacobi Symbols:  \n",
    "* j"
   ]
  },
  {
   "cell_type": "code",
   "execution_count": 10,
   "metadata": {},
   "outputs": [
    {
     "name": "stdout",
     "output_type": "stream",
     "text": [
      "Jacobi Symbol 9991 / 2 = 1\n",
      "Jacobi Symbol 9991 / 3 = 1\n",
      "Jacobi Symbol 9991 / 5 = 1\n",
      "Jacobi Symbol 9991 / 7 = 1\n",
      "Jacobi Symbol 9991 / 11 = 1\n",
      "Jacobi Symbol 9991 / 13 = -1\n",
      "Jacobi Symbol 9991 / 17 = -1\n",
      "Jacobi Symbol 9991 / 19 = 1\n",
      "Jacobi Symbol 9991 / 23 = 1\n",
      "Jacobi Symbol 9991 / 29 = -1\n"
     ]
    }
   ],
   "source": [
    "# JACOBI SYMBOLS\n",
    "# n = integer in question\n",
    "# p = prime modulus\n",
    "# Returns 1 (on residue exists), -1 (on non-residue), 0 (p divides n)\n",
    "def jacobi (a, n):\n",
    "    j = 1\n",
    "    # Main Loop\n",
    "    while a != 0:\n",
    "        # Loop for pulling out factors of two\n",
    "        while a % 2 == 0:\n",
    "            a = a // 2\n",
    "            if ((n % 8 == 3) or (n % 8 == 5)):\n",
    "                j = j * -1\n",
    "        # Swap a, n\n",
    "        temp = a\n",
    "        a = n\n",
    "        n = temp\n",
    "        if ((a % 4 == 3) and (n % 4 == 3)):\n",
    "            j = j * -1\n",
    "        a = a % n\n",
    "    if n == 1:\n",
    "        return j\n",
    "    return 0\n",
    "\n",
    "a = [2, 3, 5, 7, 11, 13, 17, 19, 23, 29]\n",
    "n = 9991\n",
    "for i in a:\n",
    "    print(\"Jacobi Symbol {} / {} = {}\".format(n, i, jacobi(n, i)))"
   ]
  },
  {
   "cell_type": "markdown",
   "metadata": {},
   "source": [
    "Notes on Tonelli's Algorithm:  \n",
    "This method is used for finding a root mod some prime, which will be very useful in the Quadratic Sieve   \n",
    "* The following example detatils the steps  \n",
    "  * Take x^2 = 9 mod 73  \n",
    "  1. Check if 9 is a quadratic residue of 73 (via Jacobi Symbols)\n",
    "  2. Use Trial Division (see 1.2) to obtain some s, t pair  \n",
    "      * 73 - 1 = 72, 72 = 2^3 * 9 (s = 3, t = 9)  \n",
    "  3. Find a non-residue (b mod p) via repeated jacobi symbols ((b/p) = -1) (b is new base - see below)\n",
    "  4. Find an (even) i which satisfies (EQ: (a/(b^i))^(2^(s-k)*t) = 1 mod p), where 'a' is the square, 'p' is the prime, and 'b' is the base of i\n",
    "  * b (inv)^i mod p  - > b (inv p) -> a * ans ^i -> ans ^ e -> check 1 mod p\n",
    "      * Start with i = 2\n",
    "      * Check if ik satisfies the EQ\n",
    "            * If it does satisfy for remainder 1, then i(k+1) = i(k)    \n",
    "             * O.W. i(k+1) = i(k) + 2^k\n",
    "      * The above is computed for k = 1 -> s (see part 2)\n",
    "  5. Take the final i(k = s) and compute: (b^(i/2)) * ((a/(b^i))^((t+1)/2)) mod p\n",
    "  6. Pray "
   ]
  },
  {
   "cell_type": "code",
   "execution_count": 12,
   "metadata": {},
   "outputs": [
    {
     "name": "stdout",
     "output_type": "stream",
     "text": [
      "i = 2, k = 1\n",
      "i = 2, k = 2\n",
      "i = 2, k = 3\n",
      "i = 10, k = 4\n",
      "i = 26, k = 5\n",
      "i = 58, k = 6\n",
      "[2, 2, 10, 26, 58, 122]\n",
      "8640\n"
     ]
    }
   ],
   "source": [
    "# TONELLI'S ALGORITHM \n",
    "# a = number \n",
    "# n = modulus \n",
    "# Returns a root mod n (r), o.w. -1\n",
    "def tonelli(a, p):\n",
    "    # Check Jacobi Symbol (a/p) = 1\n",
    "    if (jacobi(a, p) != 1):\n",
    "        print(\"{} is not a quadratic residue mod {}\".format(a, p))\n",
    "        return -1\n",
    "    # Get s, t\n",
    "    s_arr, t = trialDiv(p - 1, [2])\n",
    "    s = s_arr[0]\n",
    "    # Find a non-residue \n",
    "    b = 2\n",
    "    while (True):\n",
    "        if (jacobi(b, p) == -1):\n",
    "            break\n",
    "        b = b + 1\n",
    "    # Finding ik\n",
    "    i_arr = []\n",
    "    i = 2\n",
    "    k = 1\n",
    "    while (k <= s):\n",
    "        print(\"i = {}, k = {}\".format(i, k))\n",
    "        e = pow(2, (s-k)) * t\n",
    "        alpha = pow(a, e)\n",
    "        # Get inverse a mod p\n",
    "        if ((fastExp(a, e, p)) == fastExp(b, (i*e), p)):\n",
    "        # if (extEuclid(a, p) == pow(b, (i))):\n",
    "            # Current i works, append and continue\n",
    "            i_arr.append(i)\n",
    "            k = k + 1\n",
    "            continue\n",
    "        # Current i doesnt work, neeed to update\n",
    "        # NOTE: One of the i values must work, so no need to check\n",
    "        i = i + pow(2, k)\n",
    "        i_arr.append(i)\n",
    "        k = k + 1\n",
    "    print(i_arr)\n",
    "    # Compute final root\n",
    "    return (fastExp(b, (i//2), p) * fastExp(a, ((t+1)//2), p))\n",
    "\n",
    "print(tonelli(8, 193))\n",
    "\n"
   ]
  },
  {
   "cell_type": "markdown",
   "metadata": {},
   "source": [
    "## Main Modules for Sieving"
   ]
  },
  {
   "cell_type": "markdown",
   "metadata": {},
   "source": [
    "### Part 3: Gaussian Elimination Modulo 2"
   ]
  },
  {
   "cell_type": "markdown",
   "metadata": {},
   "source": [
    "Notes on Gaussian Elimination: "
   ]
  },
  {
   "cell_type": "code",
   "execution_count": 87,
   "metadata": {},
   "outputs": [],
   "source": [
    "# Swap two numpy arrays\n",
    "def swapRow(rref, row1, row2):\n",
    "    # print(\"Swap Row {} and Row {}\".format(row1, row2))\n",
    "    rref[[row1, row2]] = rref[[row2, row1]]\n",
    "\n",
    "# Subtract one numpy array from another (in mod 2)\n",
    "def addRow(rref, redRow, leadRow):\n",
    "    # print(\"Subtracting Lead Row {} from Row {}\".format(leadRow, redRow))\n",
    "    rref[redRow] = np.absolute(np.subtract(rref[redRow], rref[leadRow]))\n",
    "\n",
    "# Search for 1's above the leading element in current row \n",
    "def searchAbove(rref, col, leadRow):\n",
    "    # print(\"Serch Above {} in col {}\".format(leadRow,col))\n",
    "    # print(rref)\n",
    "    # Top-down row checking\n",
    "    row = 0\n",
    "    if (row == leadRow):\n",
    "        # print(\"Search Failed: Lead Row {} Equal to Starting Search Row {}\".format(leadRow, row))\n",
    "        return -1\n",
    "    while (row < leadRow):\n",
    "        if (rref[row][col]):\n",
    "            # print(\"Subtracting above\")\n",
    "            # print(rref)\n",
    "            addRow(rref, row, leadRow)\n",
    "            # print(\"After Subtract\")\n",
    "            # print(rref)\n",
    "        row = row + 1\n",
    "    return 0\n",
    "\n",
    "# Search for 1's below the leading element in current row \n",
    "def searchBelow(rref, col, leadRow):\n",
    "    # Down-Up row checking\n",
    "    # print(\"Serch Below\")\n",
    "    # print(rref)\n",
    "    row = rref.shape[0] - 1\n",
    "    if (row == leadRow):\n",
    "        # print(\"Search Failed: Lead Row {} Equal to Starting Search Row {}\".format(leadRow, row))\n",
    "        return -1\n",
    "    while (row > leadRow):\n",
    "        if (rref[row][col]):\n",
    "            # print(\"Subtracting below\")\n",
    "            # print(rref)\n",
    "            addRow(rref, row, leadRow)\n",
    "            # print(\"After Subtract\")\n",
    "            #print(rref)\n",
    "        row = row - 1\n",
    "    return 0\n",
    "\n",
    "# If leading element in row is not 1, search for new leading row \n",
    "def searchLead(rref, row, col):\n",
    "    newRow, newCol = row + 1, col\n",
    "    maxRow, maxCol = rref.shape[0], rref.shape[1]\n",
    "    foundLead = 0\n",
    "    # Ensure to not overflow dims of matrix\n",
    "    if (newRow == maxRow or newCol == maxCol):\n",
    "        # print(\"Maximum Row or Column Reached: [Row: {}| Column: {}]\".format(maxRow, maxCol))\n",
    "        return -1, -1\n",
    "    while (newCol < maxCol):\n",
    "        newRow = row + 1\n",
    "        while (newRow < maxRow):\n",
    "            if (rref[newRow][newCol]):\n",
    "                # Found a leading 1 => break and return \n",
    "                foundLead = 1\n",
    "                break\n",
    "            newRow = newRow + 1\n",
    "        if (foundLead):\n",
    "            break\n",
    "        newCol = newCol + 1\n",
    "    if (not(foundLead)):\n",
    "        print(\"New Leading Element not Found\")\n",
    "    return newRow, newCol\n",
    "\n",
    "# GAUSSIAN ELIMINATION\n",
    "# mat = matrix to be row reduced\n",
    "# Returns rref, the input matrix in reduced row-echelon form\n",
    "def gaussElim(mat):\n",
    "    # METHOD:\n",
    "    # Start at column 0\n",
    "    # For row in row:\n",
    "    #   if row, col value == 0\n",
    "    #       loop over column values (below) in search of a leading zero (if nothing in that colmn then go to next column) - return its row index\n",
    "    #       swap row with current one\n",
    "    #       set current column if there were no more 1's in that column\n",
    "    #   Otherwise, check all rows above and below\n",
    "    #       Implement function to loop over above and subtract current row from it if a 1\n",
    "    #               Handle out of bounds case (i.e., if it is a first row)\n",
    "    #       Implement function to loop over below and subract current row from it if a 1\n",
    "    #               Handle out of bounds case if last row \n",
    "    #  Increment column\n",
    "    rref = np.asarray(mat)\n",
    "    rows, cols = rref.shape[0], rref.shape[1]\n",
    "    row, col = 0, 0\n",
    "    while (row < rows):\n",
    "        # Check Lead\n",
    "        if (rref[row][col] == 0):\n",
    "            newRow, col = searchLead(rref, row, col)\n",
    "            if (newRow == -1):\n",
    "                break\n",
    "            elif(newRow != row):\n",
    "                # print(\"Swap\")\n",
    "                # print(rref)\n",
    "                swapRow(rref, row, newRow)\n",
    "                # print(\"After Swap\")\n",
    "                # print(rref)\n",
    "                # print(\"New Pivot to check sub: [Row: {} | Col: {}]\".format(row, col))\n",
    "            else :\n",
    "                print(\"Error Finding Lead\")\n",
    "                break\n",
    "        # Begin reduction\n",
    "        searchAbove(rref, col, row)\n",
    "        searchBelow(rref, col, row)\n",
    "        col = col + 1\n",
    "        row = row + 1\n",
    "        # print(rref)\n",
    "        # Check column bounds\n",
    "        if (col > cols):\n",
    "            break\n",
    "    return rref"
   ]
  },
  {
   "cell_type": "code",
   "execution_count": 88,
   "metadata": {},
   "outputs": [
    {
     "name": "stdout",
     "output_type": "stream",
     "text": [
      "Easy Test Result...\n",
      "[[1 0 0]\n",
      " [0 1 0]\n",
      " [0 0 1]]\n",
      "Medium Test...\n",
      "[[1, 0, 1, 1, 1], [1, 0, 1, 1, 1], [1, 0, 0, 1, 0], [1, 0, 1, 0, 0]]\n",
      "[[1 0 0 0 1]\n",
      " [0 0 1 0 1]\n",
      " [0 0 0 1 1]\n",
      " [0 0 0 0 0]]\n",
      "Hard Test Result...\n",
      "[[1 0 0 0 0 0 1 0 1 0]\n",
      " [0 1 0 0 0 0 0 0 1 0]\n",
      " [0 0 1 0 0 0 0 0 1 0]\n",
      " [0 0 0 1 0 0 1 0 1 0]\n",
      " [0 0 0 0 1 0 1 0 1 1]\n",
      " [0 0 0 0 0 1 1 0 1 1]\n",
      " [0 0 0 0 0 0 0 1 0 0]\n",
      " [0 0 0 0 0 0 0 0 0 0]]\n"
     ]
    }
   ],
   "source": [
    "test1 = [[0, 0, 1], [1, 0, 1], [1, 1, 0]]\n",
    "print(\"Easy Test Result...\")\n",
    "print(gaussElim(test1))\n",
    "test2 = [[1, 0, 1, 1, 1], [1, 0, 1, 1, 1], [1, 0, 0, 1, 0], [1, 0, 1, 0, 0]]\n",
    "print(\"Medium Test...\")\n",
    "print(test2)\n",
    "print(gaussElim(test2))\n",
    "test3 = [[0,1,0,1,0,0,1,0,0,0],[0,0,1,1,0,1,0,0,1,1],[1,0,0,1,0,0,0,1,0,0],[1,0,1,0,0,1,0,1,1,1],[1,1,0,0,1,0,0,1,1,1],[1,0,0,0,1,1,1,1,1,0],[1,1,0,1,1,0,1,1,0,1],[1,0,0,1,0,0,0,0,0,0]]\n",
    "print(\"Hard Test Result...\")\n",
    "print(gaussElim(test3))"
   ]
  },
  {
   "cell_type": "markdown",
   "metadata": {},
   "source": [
    "The Basis for the Solution Matrix Found in Gaussian Elimination  \n",
    "* Find all free variables (or columns without leading 1's)  \n",
    "* Test all combinations of free variables (0 || 1)  \n",
    "* Append Each vector "
   ]
  },
  {
   "cell_type": "code",
   "execution_count": 85,
   "metadata": {},
   "outputs": [],
   "source": [
    "# FIND BASIS FOR SOLUTION SET\n",
    "# gauss = the rref matrix \n",
    "# Returns set, the set of independent vector solutions to the linear system\n",
    "def basis(gauss):\n",
    "    gauss = np.asarray(gauss)\n",
    "    freeVars = [0] * gauss.shape[1]\n",
    "    row, col = 0, 0\n",
    "    maxRow, maxCol = gauss.shape[0], gauss.shape[1]\n",
    "    # Search for leading zeros\n",
    "    while (row < maxRow):\n",
    "        while (col < maxCol):\n",
    "            if (gauss[row][col]):\n",
    "                # Found leading element\n",
    "                freeVars[col] = 1\n",
    "                col = col + 1\n",
    "                break\n",
    "            col = col + 1\n",
    "        row = row + 1\n",
    "    # Show all free variabls\n",
    "    for i in range(len(freeVars)):\n",
    "        if freeVars[i] == 0:\n",
    "            print(i)  \n",
    "    print(freeVars)\n",
    "    return 0"
   ]
  },
  {
   "cell_type": "code",
   "execution_count": 86,
   "metadata": {},
   "outputs": [
    {
     "name": "stdout",
     "output_type": "stream",
     "text": [
      "[[1, 1, 0, 0, 1], [0, 0, 1, 1, 0], [0, 0, 0, 0, 1]]\n",
      "1\n",
      "3\n",
      "[1, 0, 1, 0, 1]\n"
     ]
    },
    {
     "data": {
      "text/plain": [
       "0"
      ]
     },
     "execution_count": 86,
     "metadata": {},
     "output_type": "execute_result"
    }
   ],
   "source": [
    "test = [[1, 1, 0, 0, 1], [0, 0, 1, 1, 0], [0, 0, 0, 0, 1]]\n",
    "print(test)\n",
    "basis(test)"
   ]
  },
  {
   "cell_type": "code",
   "execution_count": 76,
   "metadata": {},
   "outputs": [
    {
     "name": "stdout",
     "output_type": "stream",
     "text": [
      "[0 1 0]\n",
      "[ True False  True]\n"
     ]
    }
   ],
   "source": [
    "a = [0, 1, 0]\n",
    "rref = np.asarray(a)\n",
    "print(rref)\n",
    "print(np.logical_not(rref))"
   ]
  },
  {
   "cell_type": "markdown",
   "metadata": {},
   "source": [
    "### Part 4: Generate Factor Base"
   ]
  },
  {
   "cell_type": "markdown",
   "metadata": {},
   "source": [
    "Before finding the factor base, need a means of getting all primes up to some integer, B  \n",
    "Sieve of Eratosthenes:    \n",
    "* Starting with p = 2, color all multiples of p up to b \n",
    "* For each iteration, the next non-colored integer is prime  \n",
    "* Visual: https://en.wikipedia.org/wiki/Sieve_of_Eratosthenes\n"
   ]
  },
  {
   "cell_type": "code",
   "execution_count": 7,
   "metadata": {},
   "outputs": [
    {
     "name": "stdout",
     "output_type": "stream",
     "text": [
      "168\n"
     ]
    }
   ],
   "source": [
    "# Sieve of Eratosthenes\n",
    "# b = Limit of base\n",
    "# Returns primes, an array of primes up to B\n",
    "def eratosthenes(b):\n",
    "    r = int(math.ceil(math.sqrt(b)))\n",
    "    p = 2\n",
    "    primes = []\n",
    "    nums = [0] * b\n",
    "    nums[0] = 1\n",
    "    num = 1\n",
    "    while (True):\n",
    "        loc = p\n",
    "        while (True):\n",
    "            loc = p * num\n",
    "            if (loc > b):\n",
    "                break\n",
    "            nums[loc-1] = 1\n",
    "            num = num + 1\n",
    "        primes.append(p)\n",
    "        num = 1\n",
    "        # Find next prime \n",
    "        loc = p\n",
    "        found = 0\n",
    "        while (loc <= b):\n",
    "            # Number not yet colored - next prime\n",
    "            if (nums[loc-1] == 0):\n",
    "                p = loc\n",
    "                found = 1\n",
    "                break\n",
    "            loc = loc + 1\n",
    "        # Sought up to root and no more primes - done\n",
    "        if (found == 0):\n",
    "            break  \n",
    "    return primes\n",
    "\n",
    "arr = eratosthenes(1000)\n",
    "print(len(arr))\n",
    "    "
   ]
  },
  {
   "cell_type": "markdown",
   "metadata": {},
   "source": [
    "Notes on Factor Bases:  \n",
    "* Find list of primes less than integer, B (via sieve of eratosthenes)  \n",
    "* Ensure residues exist for n (number to be factored) and p (a prime element in the list)"
   ]
  },
  {
   "cell_type": "code",
   "execution_count": 8,
   "metadata": {},
   "outputs": [
    {
     "name": "stdout",
     "output_type": "stream",
     "text": [
      "[2, 3, 19, 23]\n"
     ]
    }
   ],
   "source": [
    "# FACTOR BASES\n",
    "# b = Upper prime bound\n",
    "# n = number to be factored\n",
    "# Returns base, a list of primes\n",
    "def factorBase(b, n):\n",
    "    base = []\n",
    "    primes = eratosthenes(b)\n",
    "    for p in primes:\n",
    "        if (jacobi(n, p) == 1):\n",
    "            base.append(p)\n",
    "    return base\n",
    "\n",
    "print(factorBase(30, 73))"
   ]
  },
  {
   "cell_type": "markdown",
   "metadata": {},
   "source": [
    "### Part 5: Sieve"
   ]
  },
  {
   "cell_type": "markdown",
   "metadata": {},
   "source": [
    "Notes on Sieve Implementation:  \n",
    "* M = B^2"
   ]
  },
  {
   "cell_type": "code",
   "execution_count": null,
   "metadata": {},
   "outputs": [],
   "source": []
  },
  {
   "cell_type": "markdown",
   "metadata": {},
   "source": [
    "## Examples of Factoring using the Quadratic Sieve"
   ]
  },
  {
   "cell_type": "markdown",
   "metadata": {},
   "source": [
    "### Part 6: Wrap Up"
   ]
  },
  {
   "cell_type": "code",
   "execution_count": null,
   "metadata": {},
   "outputs": [],
   "source": []
  }
 ],
 "metadata": {
  "interpreter": {
   "hash": "397704579725e15f5c7cb49fe5f0341eb7531c82d19f2c29d197e8b64ab5776b"
  },
  "kernelspec": {
   "display_name": "Python 3.9.1 64-bit",
   "language": "python",
   "name": "python3"
  },
  "language_info": {
   "codemirror_mode": {
    "name": "ipython",
    "version": 3
   },
   "file_extension": ".py",
   "mimetype": "text/x-python",
   "name": "python",
   "nbconvert_exporter": "python",
   "pygments_lexer": "ipython3",
   "version": "3.9.2"
  },
  "orig_nbformat": 4
 },
 "nbformat": 4,
 "nbformat_minor": 2
}
