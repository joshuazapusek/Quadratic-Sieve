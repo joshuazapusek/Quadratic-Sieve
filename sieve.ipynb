{
 "cells": [
  {
   "cell_type": "markdown",
   "metadata": {},
   "source": [
    "# Quadratic Sieve Implementation"
   ]
  },
  {
   "cell_type": "markdown",
   "metadata": {},
   "source": [
    "## Preliminaries"
   ]
  },
  {
   "cell_type": "markdown",
   "metadata": {},
   "source": [
    "Imports"
   ]
  },
  {
   "cell_type": "code",
   "execution_count": 64,
   "metadata": {},
   "outputs": [],
   "source": [
    "import math"
   ]
  },
  {
   "cell_type": "markdown",
   "metadata": {},
   "source": [
    "### Part 1.1: Strong Pseudoprime Test"
   ]
  },
  {
   "cell_type": "markdown",
   "metadata": {},
   "source": [
    "A few notes to consider when implementing the strong pseudoprime test:  \n",
    "* There are no strong Carmichael Numbers - this was shown in class and homework  \n",
    "* A composite number n is a strong pseudoprime to at most one quarter of all bases below n  \n",
    "\n",
    "So, the test will be iterated over a number of bases to ensure (very high probability) primality  \n",
    "For the test, there is no composite that passses the test for 2, 325, 9375, 28178, 450775, 9780504, and 1795265022  \n",
    "* https://en.wikipedia.org/wiki/Strong_pseudoprime#cite_note-10  \n",
    "\n"
   ]
  },
  {
   "cell_type": "code",
   "execution_count": 40,
   "metadata": {},
   "outputs": [
    {
     "name": "stdout",
     "output_type": "stream",
     "text": [
      "-1\n"
     ]
    }
   ],
   "source": [
    "# FAST MODULAR EXPONENTIATION\n",
    "# b = base for exponentiation\n",
    "# exp = exponent\n",
    "# n = modulo\n",
    "# returns result of fast modular exponentiation\n",
    "def fastExp(b, t, n):\n",
    "    res = 1\n",
    "    for i in range(0, t):\n",
    "        res = (res * b) % n\n",
    "    # Check result for strong pseudoprime context\n",
    "    if (res == (n - 1)):\n",
    "        return -1\n",
    "    return res\n",
    "\n",
    "# STRONG PSEUDOPRIME TEST\n",
    "# n = questionable prime\n",
    "# bases = array of bases for test\n",
    "# returns 0 on passed, -1 on failed test\n",
    "def strongPseudo(n, bases):\n",
    "    for i in range(len(bases)):\n",
    "        t = n - 1\n",
    "        while (not(t % 2)):\n",
    "            res = fastExp(bases[i], t, n)\n",
    "            if (res == 1):\n",
    "                t = t // 2\n",
    "                # Continue base checking\n",
    "                continue\n",
    "            elif (res == -1):\n",
    "                # Assume probable pseudoprime of current base\n",
    "                break\n",
    "            else:\n",
    "                # Number is composite - fails test \n",
    "                return -1\n",
    "    return 0\n",
    "\n",
    "n = 3004879 \n",
    "bases = [2, 325, 9375, 28178]\n",
    "# print(fastExp(3, 3962, 31697))\n",
    "# NOTE: Write a loop to exemplify \n",
    "\n",
    "print(strongPseudo(n, bases))"
   ]
  },
  {
   "cell_type": "markdown",
   "metadata": {},
   "source": [
    "### Part 1.2: Trial Division"
   ]
  },
  {
   "cell_type": "markdown",
   "metadata": {},
   "source": [
    "Notes on Trial Division:  \n",
    "* Trial Division is used to factor out primes of some number, n, up to some max value.  \n",
    "* The unfactored portion (after max) will be called 's'  \n",
    "* The result of this module will be used in finding a root modulo p (Tonelli's Algorithm)"
   ]
  },
  {
   "cell_type": "code",
   "execution_count": 47,
   "metadata": {},
   "outputs": [
    {
     "name": "stdout",
     "output_type": "stream",
     "text": [
      "([4], 1981)\n"
     ]
    }
   ],
   "source": [
    "# TRIAL DIVISION\n",
    "# n = Number to divide\n",
    "# parr = array of primes \n",
    "# returns arr (trial prime factorization exponents), n (AKA 's' the unfactored portion)\n",
    "def trialDiv(n, parr):\n",
    "    arr = [0] * len(parr)\n",
    "    # Check each prime in prime array input\n",
    "    for i in range(len(parr)):\n",
    "        # Keep dividing prime out until no longer can\n",
    "        while (True):\n",
    "            if (n % parr[i] == 0):\n",
    "                arr[i] = arr[i] + 1\n",
    "                n = n // parr[i]\n",
    "            else:\n",
    "                break\n",
    "    return arr, n\n",
    "\n",
    "# NOTE: Write loop to exemplify \n",
    "print(trialDiv(31696, [2]))"
   ]
  },
  {
   "cell_type": "markdown",
   "metadata": {},
   "source": [
    "### Part 2.1: Inverse Modulo"
   ]
  },
  {
   "cell_type": "markdown",
   "metadata": {},
   "source": [
    "Notes on Inverse Modulo:  \n",
    "* Implement Extended Euclidean Algorithm for finding some inverse of a modulo n  \n"
   ]
  },
  {
   "cell_type": "code",
   "execution_count": null,
   "metadata": {},
   "outputs": [],
   "source": [
    "# EXTENDED EUCLIDEAN ALGORITHM\n",
    "# a = Input number\n",
    "# n = modulus\n",
    "# Returns Inverse mod n (inv)\n",
    "def extendedEuclid(a, n):\n",
    "    inv = 1\n",
    "    div = 1\n",
    "    m = n\n",
    "    stack = []\n",
    "    # First sequence: find two numbers where gcd = 1\n",
    "    div = n // a\n",
    "    stack.insert(0, [(m, 1), (a, div)])\n",
    "    b = m % a\n",
    "    m = a\n",
    "    a = b\n",
    "    while (True):\n",
    "        div = a // b\n",
    "        stack.insert(0, [(a, 1), (a, div)])\n",
    "        b = m % a\n",
    "        m = a\n",
    "        a = b\n",
    "        if (b):\n",
    "            break\n",
    "    # Second sequence: get inverse\n",
    "    target = stack[0]\n",
    "    stack.pop(0)\n",
    "    for i in range(len(stack)):\n",
    "        \n",
    "    if (inv < 0):\n",
    "        inv = n + inv\n",
    "    return inv"
   ]
  },
  {
   "cell_type": "code",
   "execution_count": 147,
   "metadata": {},
   "outputs": [
    {
     "name": "stdout",
     "output_type": "stream",
     "text": [
      "179\n"
     ]
    }
   ],
   "source": [
    "def extEuclid(a,b):\n",
    "    n = b\n",
    "    prevx, x = 1, 0; prevy, y = 0, 1\n",
    "    while b:\n",
    "        q = a // b\n",
    "        x, prevx = prevx - q*x, x\n",
    "        y, prevy = prevy - q*y, y\n",
    "        a, b = b, a % b\n",
    "    if (prevx < 0):\n",
    "        return n + prevx\n",
    "    return prevx\n",
    "\n",
    "print(extEuclid(150, 180))"
   ]
  },
  {
   "cell_type": "markdown",
   "metadata": {},
   "source": [
    "### Part 2.2: Tonelli's Algorithm "
   ]
  },
  {
   "cell_type": "markdown",
   "metadata": {},
   "source": [
    "Calculating Jacobi symbols will be necessary for this module  \n",
    "Notes on Jacobi Symbols:  \n",
    "* j"
   ]
  },
  {
   "cell_type": "code",
   "execution_count": 102,
   "metadata": {},
   "outputs": [
    {
     "name": "stdout",
     "output_type": "stream",
     "text": [
      "Jacobi Symbol 9991 / 2 = 1\n",
      "Jacobi Symbol 9991 / 3 = 1\n",
      "Jacobi Symbol 9991 / 5 = 1\n",
      "Jacobi Symbol 9991 / 7 = 1\n",
      "Jacobi Symbol 9991 / 11 = 1\n",
      "Jacobi Symbol 9991 / 13 = -1\n",
      "Jacobi Symbol 9991 / 17 = -1\n",
      "Jacobi Symbol 9991 / 19 = 1\n",
      "Jacobi Symbol 9991 / 23 = 1\n",
      "Jacobi Symbol 9991 / 29 = -1\n"
     ]
    }
   ],
   "source": [
    "# JACOBI SYMBOLS\n",
    "# n = integer in question\n",
    "# p = prime modulus\n",
    "# Returns 1 (on residue exists), -1 (on non-residue), 0 (p divides n)\n",
    "def jacobi (a, n):\n",
    "    j = 1\n",
    "    # Main Loop\n",
    "    while a != 0:\n",
    "        # Loop for pulling out factors of two\n",
    "        while a % 2 == 0:\n",
    "            a = a // 2\n",
    "            if ((n % 8 == 3) or (n % 8 == 5)):\n",
    "                j = j * -1\n",
    "        # Swap a, n\n",
    "        temp = a\n",
    "        a = n\n",
    "        n = temp\n",
    "        if ((a % 4 == 3) and (n % 4 == 3)):\n",
    "            j = j * -1\n",
    "        a = a % n\n",
    "    if n == 1:\n",
    "        return j\n",
    "    return 0\n",
    "\n",
    "a = [2, 3, 5, 7, 11, 13, 17, 19, 23, 29]\n",
    "n = 9991\n",
    "for i in a:\n",
    "    print(\"Jacobi Symbol {} / {} = {}\".format(n, i, jacobi(n, i)))"
   ]
  },
  {
   "cell_type": "markdown",
   "metadata": {},
   "source": [
    "Notes on Tonelli's Algorithm:  \n",
    "This method is used for finding a root mod some prime, which will be very useful in the Quadratic Sieve   \n",
    "* The following example detatils the steps  \n",
    "  * Take x^2 = 9 mod 73  \n",
    "  1. Check if 9 is a quadratic residue of 73 (via Jacobi Symbols)\n",
    "  2. Use Trial Division (see 1.2) to obtain some s, t pair  \n",
    "      * 73 - 1 = 72, 72 = 2^3 * 9 (s = 3, t = 9)  \n",
    "  3. Find a non-residue (b mod p) via repeated jacobi symbols ((b/p) = -1) (b is new base - see below)\n",
    "  4. Find an (even) i which satisfies (EQ: (a/(b^i))^(2^(s-k)*t) = 1 mod p), where 'a' is the square, 'p' is the prime, and 'b' is the base of i\n",
    "      * Start with i = 2\n",
    "      * Check if ik satisfies the EQ\n",
    "            * If it does satisfy for remainder 1, then i(k+1) = i(k)    \n",
    "             * O.W. i(k+1) = i(k) + 2^k\n",
    "      * The above is computed for k = 1 -> s (see part 2)\n",
    "  5. Take the final i(k = s) and compute: (b^(i/2)) * ((a/(b^i))^((t+1)/2))\n",
    "  6. Pray "
   ]
  },
  {
   "cell_type": "code",
   "execution_count": 128,
   "metadata": {},
   "outputs": [
    {
     "name": "stdout",
     "output_type": "stream",
     "text": [
      "6 3\n",
      "5\n",
      "i = 2, k = 2\n",
      "i = 2, k = 3\n",
      "Error in confirming i3\n",
      "37\n",
      "65\n",
      "2405\n"
     ]
    }
   ],
   "source": [
    "# TONELLI'S ALGORITHM \n",
    "# a = number \n",
    "# n = modulus \n",
    "# Returns a root mod n (r), o.w. -1\n",
    "def tonelli(a, p):\n",
    "    # Check Jacobi Symbol (a/p) = 1\n",
    "    if (jacobi(a, p) != 1):\n",
    "        print(\"{} is not a quadratic residue mod {}\".format(a, p))\n",
    "        return -1\n",
    "    # Get s, t\n",
    "    s_arr, t = trialDiv(p - 1, [2])\n",
    "    s = s_arr[0]\n",
    "    # Find a non-residue \n",
    "    b = 2\n",
    "    while (True):\n",
    "        # print(\"b = {}\".format(b))\n",
    "        if (jacobi(b, p) == -1):\n",
    "            break\n",
    "        b = b + 1\n",
    "    # Finding ik\n",
    "    i_arr = []\n",
    "    i = 2\n",
    "    k = 2\n",
    "    while (k <= s):\n",
    "        print(\"i = {}, k = {}\".format(i, k))\n",
    "        base = a / (pow(b, i))\n",
    "        # Check base - Inverse if needed\n",
    "        if (base < 1):\n",
    "            base = math.floor(pow(base, -1))\n",
    "            base = extEuclid(base, p)\n",
    "        e = pow(2, (s-k)) * t\n",
    "        # print(\"base = {}, exponent = {}\".format(base, e))\n",
    "        # Current i(k) worked \n",
    "        if (fastExp(base, e, p) == 1):\n",
    "            i_arr.append(i)\n",
    "        # Need to update i(k) to i(k) + 2^k\n",
    "        else: \n",
    "            i = i + pow(2, k)\n",
    "            base = a / (pow(b, i))\n",
    "            if (base < 1):\n",
    "                base = math.floor(pow(base, -1))\n",
    "                base = extEuclid(base, p)\n",
    "            if (fastExp(base, e, p) != 1):\n",
    "                print(\"Error in confirming i{}\".format(k))\n",
    "                break\n",
    "        k = k + 1\n",
    "    # Compute final root mod p\n",
    "    # Define as B * (A^T)\n",
    "    #   B = b^(i/2)\n",
    "    #   A = a / (b^i)\n",
    "    #   T = (t + 1) / 2\n",
    "    B = pow(b, i // 2)\n",
    "    A = a / pow(b, i)\n",
    "    if (A < 1):\n",
    "        A = math.floor(pow(A, -1))\n",
    "        A = extEuclid(A, p)\n",
    "    T = (t + 1) // 2\n",
    "    B = B % p\n",
    "    print(B)\n",
    "    A = fastExp(A, T, p)\n",
    "    print(A)\n",
    "    return (B * A)\n",
    "\n",
    "print(tonelli(8, 193))\n",
    "\n"
   ]
  },
  {
   "cell_type": "code",
   "execution_count": 145,
   "metadata": {},
   "outputs": [
    {
     "name": "stdout",
     "output_type": "stream",
     "text": [
      "0.000512\n",
      "1953\n",
      "185\n"
     ]
    }
   ],
   "source": [
    "a = 8/pow(5, 6)\n",
    "print(a)\n",
    "i = math.floor(pow(a, -1))\n",
    "print(i)\n",
    "i = extEuclid(i+1, 193)\n",
    "print(i)"
   ]
  },
  {
   "cell_type": "markdown",
   "metadata": {},
   "source": [
    "## Main Modules for Sieving"
   ]
  },
  {
   "cell_type": "markdown",
   "metadata": {},
   "source": [
    "### Part 3: Gaussian Elimination Modulo 2"
   ]
  },
  {
   "cell_type": "markdown",
   "metadata": {},
   "source": [
    "Notes on Gaussian Elimination: "
   ]
  },
  {
   "cell_type": "code",
   "execution_count": null,
   "metadata": {},
   "outputs": [],
   "source": []
  },
  {
   "cell_type": "markdown",
   "metadata": {},
   "source": [
    "### Part 4: Generate Factor Base"
   ]
  },
  {
   "cell_type": "markdown",
   "metadata": {},
   "source": [
    "Before finding the factor base, need a means of getting all primes up to some integer, B  \n",
    "Sieve of Eratosthenes:    \n",
    "* Starting with p = 2, color all multiples of p up to b \n",
    "* For each iteration, the next non-colored integer is prime  \n",
    "* Visual: https://en.wikipedia.org/wiki/Sieve_of_Eratosthenes\n"
   ]
  },
  {
   "cell_type": "code",
   "execution_count": null,
   "metadata": {},
   "outputs": [],
   "source": [
    "# Sieve of Eratosthenes\n",
    "# b = Limit of base\n",
    "# Returns primes, an array of primes up to B\n",
    "def eratosthenes(b):\n",
    "    r = int(math.ceil(math.sqrt(b)))\n",
    "    p = 2\n",
    "    primes = []\n",
    "    nums = [0] * b\n",
    "    nums[0] = 1\n",
    "    num = 1\n",
    "    while (True):\n",
    "        loc = p\n",
    "        while (True):\n",
    "            loc = p * num\n",
    "            if (loc > b):\n",
    "                break\n",
    "            nums[loc-1] = 1\n",
    "            num = num + 1\n",
    "        primes.append(p)\n",
    "        num = 1\n",
    "        # Find next prime \n",
    "        loc = p\n",
    "        found = 0\n",
    "        while (loc <= b):\n",
    "            # Number not yet colored - next prime\n",
    "            if (nums[loc-1] == 0):\n",
    "                p = loc\n",
    "                found = 1\n",
    "                break\n",
    "            loc = loc + 1\n",
    "        # Sought up to root and no more primes - done\n",
    "        if (found == 0):\n",
    "            break  \n",
    "    return primes\n",
    "\n",
    "arr = eratosthenes(1000)\n",
    "print(len(arr))\n",
    "    "
   ]
  },
  {
   "cell_type": "markdown",
   "metadata": {},
   "source": [
    "Notes on Factor Bases:  \n",
    "* Find list of primes less than integer, B (via sieve of eratosthenes)  \n",
    "* Ensure residues exist for n (number to be factored) and p (a prime element in the list)"
   ]
  },
  {
   "cell_type": "code",
   "execution_count": 100,
   "metadata": {},
   "outputs": [
    {
     "name": "stdout",
     "output_type": "stream",
     "text": [
      "2\n",
      "3\n",
      "5\n",
      "7\n",
      "11\n",
      "13\n",
      "17\n",
      "19\n",
      "23\n",
      "29\n",
      "[2, 3, 19, 23]\n"
     ]
    }
   ],
   "source": [
    "# FACTOR BASES\n",
    "# b = Upper prime bound\n",
    "# n = number to be factored\n",
    "# Returns base, a list of primes\n",
    "def factorBase(b, n):\n",
    "    base = []\n",
    "    primes = eratosthenes(b)\n",
    "    for p in primes:\n",
    "        if (jacobi(n, p) == 1):\n",
    "            base.append(p)\n",
    "    return base\n",
    "\n",
    "print(factorBase(30, 73))\n"
   ]
  },
  {
   "cell_type": "markdown",
   "metadata": {},
   "source": [
    "### Part 5: Sieve"
   ]
  },
  {
   "cell_type": "markdown",
   "metadata": {},
   "source": [
    "Notes on Sieve Implementation:"
   ]
  },
  {
   "cell_type": "code",
   "execution_count": null,
   "metadata": {},
   "outputs": [],
   "source": []
  },
  {
   "cell_type": "markdown",
   "metadata": {},
   "source": [
    "## Examples of Factoring using the Quadratic Sieve"
   ]
  },
  {
   "cell_type": "markdown",
   "metadata": {},
   "source": [
    "### Part 6: Wrap Up"
   ]
  },
  {
   "cell_type": "code",
   "execution_count": null,
   "metadata": {},
   "outputs": [],
   "source": []
  }
 ],
 "metadata": {
  "interpreter": {
   "hash": "397704579725e15f5c7cb49fe5f0341eb7531c82d19f2c29d197e8b64ab5776b"
  },
  "kernelspec": {
   "display_name": "Python 3.9.1 64-bit",
   "language": "python",
   "name": "python3"
  },
  "language_info": {
   "codemirror_mode": {
    "name": "ipython",
    "version": 3
   },
   "file_extension": ".py",
   "mimetype": "text/x-python",
   "name": "python",
   "nbconvert_exporter": "python",
   "pygments_lexer": "ipython3",
   "version": "3.9.1"
  },
  "orig_nbformat": 4
 },
 "nbformat": 4,
 "nbformat_minor": 2
}
